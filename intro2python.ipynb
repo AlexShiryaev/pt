{
 "cells": [
  {
   "cell_type": "markdown",
   "metadata": {},
   "source": [
    "# Ласкаво просимо до Python 3.x. та Jupyter"
   ]
  },
  {
   "cell_type": "markdown",
   "metadata": {},
   "source": [
    "У школі ми писали: **y=f(x)**. Функціональне програмування побудоване за цим самим принципом. "
   ]
  },
  {
   "cell_type": "code",
   "execution_count": 11,
   "metadata": {
    "scrolled": true
   },
   "outputs": [],
   "source": [
    "# напишіть Hello Python. print — це функція, що друкує текст. У дужках зазначаємо що хочемо надрукувати.\n",
    "print(\"_______\")"
   ]
  },
  {
   "cell_type": "markdown",
   "metadata": {},
   "source": [
    "## Розпочнемо з арифметики"
   ]
  },
  {
   "cell_type": "markdown",
   "metadata": {},
   "source": [
    "Оператори та арифметичні дії у Python: https://docs.python.org/3.4/library/operator.html#mapping-operators-to-functions"
   ]
  },
  {
   "cell_type": "code",
   "execution_count": 22,
   "metadata": {},
   "outputs": [],
   "source": [
    "# розв'яжемо декілька простих прикладів\n",
    "print(1234+4321*3455/980)\n",
    "print(1234**4)\n",
    "print(123445>45566)\n",
    "print(12==12)"
   ]
  },
  {
   "cell_type": "code",
   "execution_count": null,
   "metadata": {},
   "outputs": [],
   "source": [
    "# напишіть тут декілька власних приклади\n"
   ]
  },
  {
   "cell_type": "markdown",
   "metadata": {},
   "source": [
    "## Змінні у Python\n",
    "Змінна — це \"контейнер\", що зберігає певне значення або об'єкт"
   ]
  },
  {
   "cell_type": "code",
   "execution_count": 25,
   "metadata": {},
   "outputs": [],
   "source": [
    "# Створимо дві змінні\n",
    "my_integer = 7\n",
    "my_string = \"Hello Python\""
   ]
  },
  {
   "cell_type": "code",
   "execution_count": null,
   "metadata": {},
   "outputs": [],
   "source": [
    "# Надрукуємо дві змінні\n",
    "print(my_integer)\n",
    "print(my_string)"
   ]
  },
  {
   "cell_type": "code",
   "execution_count": null,
   "metadata": {},
   "outputs": [],
   "source": [
    "# створіть свою змінну та надрукуйте її\n"
   ]
  },
  {
   "cell_type": "code",
   "execution_count": null,
   "metadata": {},
   "outputs": [],
   "source": [
    "# створіть приклад\n",
    "а = __\n",
    "b = __\n",
    "c = __\n",
    "print(a * b / c)"
   ]
  },
  {
   "cell_type": "markdown",
   "metadata": {},
   "source": [
    "## Типи у Python: числа, рядки, булеві вирази"
   ]
  },
  {
   "cell_type": "code",
   "execution_count": 31,
   "metadata": {},
   "outputs": [],
   "source": [
    "# числа\n",
    "integer = 1\n",
    "floating_point = 1.12345\n",
    "# рядки тексту\n",
    "string = \"a word\"\n",
    "number_as_sring = \"1.12345\"\n",
    "# логічні вирази у Python: True та False\n",
    "boolean = True"
   ]
  },
  {
   "cell_type": "code",
   "execution_count": null,
   "metadata": {},
   "outputs": [],
   "source": [
    "print(type(integer))\n",
    "print(type(floating_point))\n",
    "print(type(string))\n",
    "print(type(number_as_sring))\n",
    "print(type(boolean))"
   ]
  },
  {
   "cell_type": "markdown",
   "metadata": {},
   "source": [
    "**Завдання 1:** Створять змінну а, як довльний рядок тексту. Створіть змінну b, як інший довільний рядок тексту.Додайте обидві змінні. Результат виведіть на консоль."
   ]
  },
  {
   "cell_type": "code",
   "execution_count": null,
   "metadata": {},
   "outputs": [],
   "source": []
  },
  {
   "cell_type": "markdown",
   "metadata": {},
   "source": [
    "**Завдання 2:** Створять змінну а, як довльний рядок тексту. Створіть змінну b, як десятковий дріб.\n",
    "Додайте обидві змінні. Результат виведіть на консоль."
   ]
  },
  {
   "cell_type": "code",
   "execution_count": null,
   "metadata": {},
   "outputs": [],
   "source": []
  },
  {
   "cell_type": "markdown",
   "metadata": {},
   "source": [
    "## Типи у Python: масиви та словники"
   ]
  },
  {
   "cell_type": "code",
   "execution_count": 40,
   "metadata": {},
   "outputs": [],
   "source": [
    "# створимо простий масив\n",
    "array = [1,2,3,4,5]"
   ]
  },
  {
   "cell_type": "code",
   "execution_count": 42,
   "metadata": {},
   "outputs": [],
   "source": [
    "# для того щоб додавати нові значення до масиву необхідно використати метод .append()\n",
    "array.append(6)\n",
    "print(array)"
   ]
  },
  {
   "cell_type": "markdown",
   "metadata": {},
   "source": [
    "**Завдання 3**: Створять масив з назвами міст і додайте до нього ще одну назву міста."
   ]
  },
  {
   "cell_type": "code",
   "execution_count": null,
   "metadata": {},
   "outputs": [],
   "source": []
  },
  {
   "cell_type": "markdown",
   "metadata": {},
   "source": [
    "## Умови у Python: if, else"
   ]
  },
  {
   "cell_type": "code",
   "execution_count": null,
   "metadata": {},
   "outputs": [],
   "source": [
    "# нехай x дорівнює 2\n",
    "x = 2\n",
    "# тепер зробимо декілька простих порівнянь\n",
    "print(x == 2)\n",
    "print(x == 3)\n",
    "print(x < 3)"
   ]
  },
  {
   "cell_type": "code",
   "execution_count": 43,
   "metadata": {},
   "outputs": [],
   "source": [
    "# тепер трішки складніший приклад\n",
    "# нехай x дорівнює два\n",
    "x = 2\n",
    "\n",
    "# тепер створимо умову, що перевіряє значення x\n",
    "if x == 2:\n",
    "    print(\"x дорівнює два!\")"
   ]
  },
  {
   "cell_type": "markdown",
   "metadata": {},
   "source": [
    "**Завдання 3**: Створіть умову, що перевіряє довжину рядка тексту"
   ]
  },
  {
   "cell_type": "markdown",
   "metadata": {},
   "source": [
    "## Цикли"
   ]
  },
  {
   "cell_type": "code",
   "execution_count": 52,
   "metadata": {},
   "outputs": [],
   "source": [
    "# створимо масив цілих чисел\n",
    "numbers = [2, 3, 5, 7]\n",
    "\n",
    "# роздрукуємо кожне з чисел\n",
    "for n in numbers:\n",
    "    print(n + 5)"
   ]
  },
  {
   "cell_type": "markdown",
   "metadata": {},
   "source": [
    "**Завдання 4**: Написати цикл, який згенерує 100 URL адрес, що починаються https://www.kmu.gov.ua/ua/page=, де і має значення від 1 до 100."
   ]
  },
  {
   "cell_type": "code",
   "execution_count": null,
   "metadata": {},
   "outputs": [],
   "source": []
  },
  {
   "cell_type": "markdown",
   "metadata": {},
   "source": [
    "## Функції"
   ]
  },
  {
   "cell_type": "code",
   "execution_count": 45,
   "metadata": {},
   "outputs": [],
   "source": [
    "# функції у Python мають наступний вигляд\n",
    "def sum_two_numbers(a, b):\n",
    "    print(a + b)"
   ]
  },
  {
   "cell_type": "code",
   "execution_count": 47,
   "metadata": {},
   "outputs": [],
   "source": [
    "# Розрахуємо суму 4 та 5\n",
    "sum_two_numbers(4, 5)"
   ]
  },
  {
   "cell_type": "markdown",
   "metadata": {},
   "source": [
    "**Завдання 5**: створіть функцію для отримання квадрата числа."
   ]
  },
  {
   "cell_type": "code",
   "execution_count": null,
   "metadata": {},
   "outputs": [],
   "source": []
  }
 ],
 "metadata": {
  "kernelspec": {
   "display_name": "Python 3",
   "language": "python",
   "name": "python3"
  },
  "language_info": {
   "codemirror_mode": {
    "name": "ipython",
    "version": 3
   },
   "file_extension": ".py",
   "mimetype": "text/x-python",
   "name": "python",
   "nbconvert_exporter": "python",
   "pygments_lexer": "ipython3",
   "version": "3.6.7"
  }
 },
 "nbformat": 4,
 "nbformat_minor": 2
}
